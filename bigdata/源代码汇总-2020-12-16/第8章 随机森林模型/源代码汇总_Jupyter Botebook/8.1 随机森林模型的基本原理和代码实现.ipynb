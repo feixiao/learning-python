{
 "cells": [
  {
   "cell_type": "markdown",
   "metadata": {},
   "source": [
    "# 8.1.3 随机森林模型的代码实现"
   ]
  },
  {
   "cell_type": "markdown",
   "metadata": {},
   "source": [
    "和决策树模型一样，随机森林模型既可以做分类分析，也可以做回归分析。\n",
    "\n",
    "分别对应的模型为随机森林分类模型（RandomForestClassifier）及随机森林回归模型（RandomForestRegressor）。随机森林分类模型的基模型是分类决策树模型（详见5.1.2节），随机森林回归模型的基模型则是回归决策树模型（详见5.1.3节）。"
   ]
  },
  {
   "cell_type": "code",
   "execution_count": null,
   "metadata": {},
   "outputs": [],
   "source": [
    "# 随机森林分类模型简单代码演示如下所示：\n",
    "from sklearn.ensemble import RandomForestClassifier\n",
    "\n",
    "# x是特征变量，共有2个\n",
    "X = [[1, 2], [3, 4], [5, 6], [7, 8], [9, 10]]\n",
    "# y是目标变量，共有2个分类——0和1\n",
    "y = [0, 0, 0, 1, 1]\n",
    "\n",
    "# 引入模型，并设置弱学习器的数量n_estimators为10，即共有10个决策树模型作为弱学习器；设置random_state为123，使得每次运行结果一致\n",
    "model = RandomForestClassifier(n_estimators=10, random_state=123)\n",
    "# 用fit()函数训练模型。\n",
    "model.fit(X, y)\n",
    "#用predict()函数进行预测\n",
    "print(model.predict([[5, 5]]))"
   ]
  },
  {
   "cell_type": "code",
   "execution_count": null,
   "metadata": {},
   "outputs": [],
   "source": [
    "# 随机森林回归模型简单代码演示如下所示：\n",
    "# 随机森林回归模型相关库RandomForestRegressor\n",
    "from sklearn.ensemble import RandomForestRegressor\n",
    "\n",
    "# X是特征变量，共有2个特征\n",
    "X = [[1, 2], [3, 4], [5, 6], [7, 8], [9, 10]]\n",
    "# y是目标变量，它是一个连续值\n",
    "y = [1, 2, 3, 4, 5]\n",
    "\n",
    "# 引入模型，并设置弱学习器的数量n_estimators为10，即共有10个决策树模型作为弱学习器；设置random_state为123，使得每次运行结果一致。\n",
    "model = RandomForestRegressor(n_estimators=10, random_state=123)\n",
    "model.fit(X, y)\n",
    "\n",
    "print(model.predict([[5, 5]]))"
   ]
  }
 ],
 "metadata": {
  "kernelspec": {
   "display_name": "Python 3",
   "language": "python",
   "name": "python3"
  },
  "language_info": {
   "codemirror_mode": {
    "name": "ipython",
    "version": 3
   },
   "file_extension": ".py",
   "mimetype": "text/x-python",
   "name": "python",
   "nbconvert_exporter": "python",
   "pygments_lexer": "ipython3",
   "version": "3.8.5-final"
  }
 },
 "nbformat": 4,
 "nbformat_minor": 2
}